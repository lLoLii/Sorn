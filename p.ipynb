{
 "metadata": {
  "language_info": {
   "codemirror_mode": {
    "name": "ipython",
    "version": 3
   },
   "file_extension": ".py",
   "mimetype": "text/x-python",
   "name": "python",
   "nbconvert_exporter": "python",
   "pygments_lexer": "ipython3",
   "version": "3.6.12-final"
  },
  "orig_nbformat": 2,
  "kernelspec": {
   "name": "python361264bitpy36condabc48f5f7aa5b43d4ba2cb177242f3fd8",
   "display_name": "Python 3.6.12 64-bit ('py36': conda)"
  }
 },
 "nbformat": 4,
 "nbformat_minor": 2,
 "cells": [
  {
   "cell_type": "code",
   "execution_count": 2,
   "metadata": {},
   "outputs": [],
   "source": [
    "import pyautogui as pag\n",
    "import os\n",
    "import time\n",
    "import pandas as pd\n",
    "import VSchool_lib as vsl"
   ]
  },
  {
   "cell_type": "code",
   "execution_count": 3,
   "metadata": {},
   "outputs": [],
   "source": [
    "df_all = pd.read_csv('all.csv')"
   ]
  },
  {
   "cell_type": "code",
   "execution_count": 4,
   "metadata": {},
   "outputs": [],
   "source": [
    "df_eng = pd.read_csv('Data/ENG_6_2.csv')"
   ]
  },
  {
   "cell_type": "code",
   "execution_count": 6,
   "metadata": {},
   "outputs": [],
   "source": [
    "        df_eng['ans'] = df_eng['ans_TH'].replace({\n",
    "                                                'ก':1,\n",
    "                                                'ข':2,\n",
    "                                                'ค':3,\n",
    "                                                'ง':4,\n",
    "                                                'จ':5,\n",
    "                                                'A':1,\n",
    "                                                'B':2,\n",
    "                                                'C':3,\n",
    "                                                'D':4,\n",
    "                                                'E':5\n",
    "                                            })\n",
    "        df_eng['ans_TH'] = df_eng['ans_TH'].replace({\n",
    "                                        1:'A',\n",
    "                                        2:'B',\n",
    "                                        3:'C',\n",
    "                                        4:'D',\n",
    "                                        5:'E'\n",
    "                                    })"
   ]
  },
  {
   "cell_type": "code",
   "execution_count": 12,
   "metadata": {},
   "outputs": [],
   "source": [
    "pd.concat((df_all,df_eng))[['id','ans']].drop_duplicates().sort_values('id').reset_index(drop=True).to_csv('all.csv')"
   ]
  },
  {
   "cell_type": "code",
   "execution_count": 11,
   "metadata": {},
   "outputs": [
    {
     "output_type": "execute_result",
     "data": {
      "text/plain": [
       "              id  ans\n",
       "0      4-06-01-1    4\n",
       "1     4-06-01-10    4\n",
       "2     4-06-01-11    3\n",
       "3     4-06-01-12    1\n",
       "4     4-06-01-14    1\n",
       "...          ...  ...\n",
       "3599  J-59-16-84    1\n",
       "3600  J-59-16-85    3\n",
       "3601  J-59-16-86    2\n",
       "3602  J-59-16-87    2\n",
       "3603  J-59-16-88    3\n",
       "\n",
       "[3604 rows x 2 columns]"
      ],
      "text/html": "<div>\n<style scoped>\n    .dataframe tbody tr th:only-of-type {\n        vertical-align: middle;\n    }\n\n    .dataframe tbody tr th {\n        vertical-align: top;\n    }\n\n    .dataframe thead th {\n        text-align: right;\n    }\n</style>\n<table border=\"1\" class=\"dataframe\">\n  <thead>\n    <tr style=\"text-align: right;\">\n      <th></th>\n      <th>id</th>\n      <th>ans</th>\n    </tr>\n  </thead>\n  <tbody>\n    <tr>\n      <th>0</th>\n      <td>4-06-01-1</td>\n      <td>4</td>\n    </tr>\n    <tr>\n      <th>1</th>\n      <td>4-06-01-10</td>\n      <td>4</td>\n    </tr>\n    <tr>\n      <th>2</th>\n      <td>4-06-01-11</td>\n      <td>3</td>\n    </tr>\n    <tr>\n      <th>3</th>\n      <td>4-06-01-12</td>\n      <td>1</td>\n    </tr>\n    <tr>\n      <th>4</th>\n      <td>4-06-01-14</td>\n      <td>1</td>\n    </tr>\n    <tr>\n      <th>...</th>\n      <td>...</td>\n      <td>...</td>\n    </tr>\n    <tr>\n      <th>3599</th>\n      <td>J-59-16-84</td>\n      <td>1</td>\n    </tr>\n    <tr>\n      <th>3600</th>\n      <td>J-59-16-85</td>\n      <td>3</td>\n    </tr>\n    <tr>\n      <th>3601</th>\n      <td>J-59-16-86</td>\n      <td>2</td>\n    </tr>\n    <tr>\n      <th>3602</th>\n      <td>J-59-16-87</td>\n      <td>2</td>\n    </tr>\n    <tr>\n      <th>3603</th>\n      <td>J-59-16-88</td>\n      <td>3</td>\n    </tr>\n  </tbody>\n</table>\n<p>3604 rows × 2 columns</p>\n</div>"
     },
     "metadata": {},
     "execution_count": 11
    }
   ],
   "source": [
    "pd.concat((df_all,df_eng))[['id','ans']].drop_duplicates().sort_values('id').reset_index(drop=True)"
   ]
  },
  {
   "cell_type": "code",
   "execution_count": null,
   "metadata": {},
   "outputs": [],
   "source": []
  }
 ]
}