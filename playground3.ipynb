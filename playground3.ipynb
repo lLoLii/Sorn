{
 "metadata": {
  "language_info": {
   "codemirror_mode": {
    "name": "ipython",
    "version": 3
   },
   "file_extension": ".py",
   "mimetype": "text/x-python",
   "name": "python",
   "nbconvert_exporter": "python",
   "pygments_lexer": "ipython3",
   "version": "3.6.12-final"
  },
  "orig_nbformat": 2,
  "kernelspec": {
   "name": "python361264bitpy36condabc48f5f7aa5b43d4ba2cb177242f3fd8",
   "display_name": "Python 3.6.12 64-bit ('py36': conda)"
  }
 },
 "nbformat": 4,
 "nbformat_minor": 2,
 "cells": [
  {
   "cell_type": "code",
   "execution_count": 1,
   "metadata": {},
   "outputs": [],
   "source": [
    "import pyautogui as pag\n",
    "import vs_auto as vsa\n",
    "import pandas as pd"
   ]
  },
  {
   "cell_type": "code",
   "execution_count": 2,
   "metadata": {},
   "outputs": [],
   "source": [
    "df= pd.read_csv('all.csv')"
   ]
  },
  {
   "cell_type": "code",
   "execution_count": 2,
   "metadata": {},
   "outputs": [],
   "source": [
    "lc = pag.locateCenterOnScreen('/home/lloli/Documents/GitHub/Sorn/assets/2E.png')\n",
    "lc"
   ]
  },
  {
   "cell_type": "code",
   "execution_count": 3,
   "metadata": {},
   "outputs": [
    {
     "output_type": "stream",
     "name": "stdout",
     "text": [
      "Your browser has been opened to visit:\n",
      "\n",
      "    https://accounts.google.com/o/oauth2/auth?client_id=860236391617-bcbmishunp3rasacu3je1982ic0v04qh.apps.googleusercontent.com&redirect_uri=http%3A%2F%2Flocalhost%3A8080%2F&scope=https%3A%2F%2Fwww.googleapis.com%2Fauth%2Fdrive&access_type=offline&response_type=code\n",
      "\n",
      "Authentication successful.\n"
     ]
    }
   ],
   "source": [
    "from pydrive.auth import GoogleAuth\n",
    "from pydrive.drive import GoogleDrive\n",
    "g_login = GoogleAuth()\n",
    "g_login.LocalWebserverAuth()\n",
    "drive = GoogleDrive(g_login)"
   ]
  },
  {
   "cell_type": "code",
   "execution_count": 10,
   "metadata": {},
   "outputs": [
    {
     "output_type": "execute_result",
     "data": {
      "text/plain": [
       "      Unnamed: 0           id ans_TH  ans\n",
       "0              0    4-06-01-1      4    4\n",
       "1              1   4-06-01-10      4    4\n",
       "2              2   4-06-01-11      3    3\n",
       "3              3   4-06-01-12      1    1\n",
       "4              4   4-06-01-14      1    1\n",
       "...          ...          ...    ...  ...\n",
       "2037        2037  J-24-17-141      1    1\n",
       "2038        2038  J-24-17-142      2    2\n",
       "2039        2039  J-24-17-143      4    4\n",
       "2040        2040  J-24-17-144      3    3\n",
       "2041        2041  J-24-17-145      4    4\n",
       "\n",
       "[2042 rows x 4 columns]"
      ],
      "text/html": "<div>\n<style scoped>\n    .dataframe tbody tr th:only-of-type {\n        vertical-align: middle;\n    }\n\n    .dataframe tbody tr th {\n        vertical-align: top;\n    }\n\n    .dataframe thead th {\n        text-align: right;\n    }\n</style>\n<table border=\"1\" class=\"dataframe\">\n  <thead>\n    <tr style=\"text-align: right;\">\n      <th></th>\n      <th>Unnamed: 0</th>\n      <th>id</th>\n      <th>ans_TH</th>\n      <th>ans</th>\n    </tr>\n  </thead>\n  <tbody>\n    <tr>\n      <th>0</th>\n      <td>0</td>\n      <td>4-06-01-1</td>\n      <td>4</td>\n      <td>4</td>\n    </tr>\n    <tr>\n      <th>1</th>\n      <td>1</td>\n      <td>4-06-01-10</td>\n      <td>4</td>\n      <td>4</td>\n    </tr>\n    <tr>\n      <th>2</th>\n      <td>2</td>\n      <td>4-06-01-11</td>\n      <td>3</td>\n      <td>3</td>\n    </tr>\n    <tr>\n      <th>3</th>\n      <td>3</td>\n      <td>4-06-01-12</td>\n      <td>1</td>\n      <td>1</td>\n    </tr>\n    <tr>\n      <th>4</th>\n      <td>4</td>\n      <td>4-06-01-14</td>\n      <td>1</td>\n      <td>1</td>\n    </tr>\n    <tr>\n      <th>...</th>\n      <td>...</td>\n      <td>...</td>\n      <td>...</td>\n      <td>...</td>\n    </tr>\n    <tr>\n      <th>2037</th>\n      <td>2037</td>\n      <td>J-24-17-141</td>\n      <td>1</td>\n      <td>1</td>\n    </tr>\n    <tr>\n      <th>2038</th>\n      <td>2038</td>\n      <td>J-24-17-142</td>\n      <td>2</td>\n      <td>2</td>\n    </tr>\n    <tr>\n      <th>2039</th>\n      <td>2039</td>\n      <td>J-24-17-143</td>\n      <td>4</td>\n      <td>4</td>\n    </tr>\n    <tr>\n      <th>2040</th>\n      <td>2040</td>\n      <td>J-24-17-144</td>\n      <td>3</td>\n      <td>3</td>\n    </tr>\n    <tr>\n      <th>2041</th>\n      <td>2041</td>\n      <td>J-24-17-145</td>\n      <td>4</td>\n      <td>4</td>\n    </tr>\n  </tbody>\n</table>\n<p>2042 rows × 4 columns</p>\n</div>"
     },
     "metadata": {},
     "execution_count": 10
    }
   ],
   "source": [
    "df"
   ]
  },
  {
   "cell_type": "code",
   "execution_count": 4,
   "metadata": {},
   "outputs": [],
   "source": [
    "import requests\n",
    "def notify_IFTTT(a):\n",
    "    report = {}\n",
    "    report['value1'] = a\n",
    "    requests.post(\"https://maker.ifttt.com/trigger/AUTOVSCHOOL/with/key/cLvSycLN_IBxyYbpoy49QQ\", data=report)"
   ]
  },
  {
   "cell_type": "code",
   "execution_count": 16,
   "metadata": {},
   "outputs": [
    {
     "output_type": "stream",
     "name": "stdout",
     "text": [
      "1xhYrz2cRN74vc6sGMZqixqSXFJflIQlp\n"
     ]
    }
   ],
   "source": [
    "folderName = 'vschool_fukk'  # Please set the folder name.\n",
    "\n",
    "folders = drive.ListFile(\n",
    "    {'q': \"title='\" + folderName + \"' and mimeType='application/vnd.google-apps.folder' and trashed=false\"}).GetList()\n",
    "for folder in folders:\n",
    "    if folder['title'] == folderName:\n",
    "        print( folder['id'])\n",
    "        file2 = drive.CreateFile({'title':'VSCHOOL_FULL_ANS.csv','parents': [{'id': folder['id']}]})\n",
    "        file2.SetContentFile('/home/lloli/Documents/GitHub/Sorn/all.csv')\n",
    "        file2.update()"
   ]
  },
  {
   "cell_type": "code",
   "execution_count": null,
   "metadata": {},
   "outputs": [],
   "source": []
  }
 ]
}