{
 "metadata": {
  "language_info": {
   "codemirror_mode": {
    "name": "ipython",
    "version": 3
   },
   "file_extension": ".py",
   "mimetype": "text/x-python",
   "name": "python",
   "nbconvert_exporter": "python",
   "pygments_lexer": "ipython3",
   "version": "3.6.12-final"
  },
  "orig_nbformat": 2,
  "kernelspec": {
   "name": "python361264bitpy36condabc48f5f7aa5b43d4ba2cb177242f3fd8",
   "display_name": "Python 3.6.12 64-bit ('py36': conda)"
  }
 },
 "nbformat": 4,
 "nbformat_minor": 2,
 "cells": [
  {
   "cell_type": "code",
   "execution_count": 45,
   "metadata": {},
   "outputs": [],
   "source": [
    "import pyautogui as pag\n",
    "import clipboard as cb\n",
    "import pandas as pd\n",
    "import os, sys\n",
    "import time\n"
   ]
  },
  {
   "cell_type": "code",
   "execution_count": 46,
   "metadata": {},
   "outputs": [],
   "source": [
    "PATH = '/home/lloli/Documents/GitHub/Sorn'\n",
    "ID =  os.path.join(PATH,'assets/id.png')\n",
    "ANS = os.path.join(PATH,'assets/ans.png')\n",
    "NEXT =  os.path.join(PATH,'assets/next.png')\n",
    "HUB = os.path.join(PATH,'assets/ss.png')\n"
   ]
  },
  {
   "cell_type": "code",
   "execution_count": 47,
   "metadata": {},
   "outputs": [],
   "source": [
    "def getID():\n",
    "\n",
    "    lc = pag.locateCenterOnScreen(ID)\n",
    "    while lc == None:\n",
    "        lc = pag.locateCenterOnScreen(ID)\n",
    "        print('ID not Found')\n",
    "\n",
    "\n",
    "    pag.tripleClick(lc)\n",
    "    pag.hotkey('ctrl','c')\n",
    "\n",
    "    while not cb.paste().count('-') == 3:\n",
    "        pag.tripleClick(lc)\n",
    "        pag.hotkey('ctrl','c')\n",
    "\n",
    "    pag.click(lc)\n",
    "\n",
    "    return cb.paste().split()[-1]\n",
    "\n",
    "    \n",
    "\n"
   ]
  },
  {
   "cell_type": "code",
   "execution_count": 48,
   "metadata": {},
   "outputs": [],
   "source": [
    "def getANS():\n",
    "\n",
    "    lc = pag.locateCenterOnScreen(ANS)\n",
    "    while lc == None:\n",
    "        lc = pag.locateCenterOnScreen(ANS)\n",
    "        print('ANS not Found')\n",
    "\n",
    "\n",
    "    pag.tripleClick(lc)\n",
    "    pag.hotkey('ctrl','c')\n",
    "\n",
    "    while not ' ' in cb.paste():\n",
    "        pag.tripleClick(lc)\n",
    "        pag.hotkey('ctrl','c')\n",
    "\n",
    "    pag.click(lc)\n",
    "\n",
    "    return cb.paste().split()[-1]\n",
    "    "
   ]
  },
  {
   "cell_type": "code",
   "execution_count": 49,
   "metadata": {},
   "outputs": [],
   "source": [
    "def Next():\n",
    "    e = 0\n",
    "    lc = pag.locateCenterOnScreen(NEXT)\n",
    "\n",
    "    while lc == None:\n",
    "        lc = pag.locateCenterOnScreen(NEXT)\n",
    "        print('NEXT not Found')\n",
    "        for i in range(0,3):\n",
    "            pag.press('pagedown')\n",
    "        time.sleep(1)\n",
    "        lc = pag.locateCenterOnScreen(NEXT)\n",
    "\n",
    "\n",
    "        e  = e+1\n",
    "        if e == 3:\n",
    "            for i in range(0,3):\n",
    "                pag.press('pageup')\n",
    "\n",
    "            lc = pag.locateCenterOnScreen(HUB)\n",
    "            while lc == None:\n",
    "                pag.press('pageup')\n",
    "                lc = pag.locateCenterOnScreen(HUB)\n",
    "                print('HUB not found')\n",
    "\n",
    "    pag.click(lc)\n",
    "    time.sleep(2)\n",
    "    \n",
    "    print('clicked NEXT/HUB')\n",
    "\n",
    "    return e\n",
    "    "
   ]
  },
  {
   "cell_type": "code",
   "execution_count": 50,
   "metadata": {},
   "outputs": [],
   "source": [
    "lst_ID = []\n",
    "lst_ANS = []"
   ]
  },
  {
   "cell_type": "code",
   "execution_count": 51,
   "metadata": {},
   "outputs": [
    {
     "output_type": "stream",
     "name": "stdout",
     "text": [
      "1\n",
      "2\n",
      "3\n",
      "clicked NEXT/HUB\n",
      "clicked NEXT/HUB\n",
      "NEXT not Found\n",
      "NEXT not Found\n",
      "NEXT not Found\n",
      "clicked NEXT/HUB\n"
     ]
    }
   ],
   "source": [
    "\n",
    "for i in range(1,4):\n",
    "    print(i)\n",
    "    time.sleep(1)\n",
    "\n",
    "while True:\n",
    "    lst_ID.append(getID())\n",
    "    lst_ANS.append(getANS())\n",
    "    err = Next()\n",
    "    if err == 3: break     "
   ]
  },
  {
   "cell_type": "code",
   "execution_count": null,
   "metadata": {},
   "outputs": [],
   "source": []
  }
 ]
}